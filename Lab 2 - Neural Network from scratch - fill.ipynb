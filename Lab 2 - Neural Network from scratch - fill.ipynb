{
 "cells": [
  {
   "cell_type": "markdown",
   "metadata": {},
   "source": [
    "### Neural networks can be intimidating, especially for people new to machine learning. There are several Neural Network libraries in Python (ex. Keras & TensorFlow) abstracting complicated details and computations (ex. matrix multiplications and Gradiend Decent). However, for educational purposes, we will build our own NN from scratch using Numpy only. This will help us break down how exactly NN works."
   ]
  },
  {
   "cell_type": "markdown",
   "metadata": {},
   "source": [
    "#### Lets build this NN:\n",
    "<img src=\"images/NN_with_weights_notations_updated.png\" alt=\"FeedForwardNeuralNetwork\" title=\"FeedForwardNeuralNetwork\" height=\"620\" width=\"420\"/>"
   ]
  },
  {
   "cell_type": "markdown",
   "metadata": {},
   "source": [
    "### Import necessary libraries"
   ]
  },
  {
   "cell_type": "code",
   "execution_count": 1,
   "metadata": {
    "collapsed": true
   },
   "outputs": [],
   "source": [
    "import numpy as np\n",
    "import matplotlib.pyplot as plt\n",
    "\n",
    "np.random.seed(42) # to reproduce same results"
   ]
  },
  {
   "cell_type": "markdown",
   "metadata": {},
   "source": [
    "### activation function\n",
    "The output of each artificial neuron is the sum of inputs times weights passed through an activation function. There are a lot of activation functions, each has its own pros & cons...\n",
    "<img src=\"images/activation_functions.png\" alt=\"activation_functions\" title=\"activation_functions\" height=\"220\" width=\"820\"/>\n",
    "Here, we will be using Sigmoid."
   ]
  },
  {
   "cell_type": "code",
   "execution_count": 2,
   "metadata": {
    "collapsed": true
   },
   "outputs": [],
   "source": [
    "# define sigmoid and its derivative\n",
    "\n",
    "def sigmoid(x):\n",
    "    \n",
    "\n",
    "def sigmoid_prime(x):\n",
    "    "
   ]
  },
  {
   "cell_type": "markdown",
   "metadata": {},
   "source": [
    "### Preparing training data\n",
    "<img src=\"images/training_data.png\" alt=\"training_data\" title=\"training_data\" height=\"220\" width=\"420\"/>"
   ]
  },
  {
   "cell_type": "code",
   "execution_count": null,
   "metadata": {
    "collapsed": true
   },
   "outputs": [],
   "source": [
    "# X = (hours sleeping, hours studying), y = score on test\n",
    "x =  # 4 X 2\n",
    "y =  # 4 X 1"
   ]
  },
  {
   "cell_type": "markdown",
   "metadata": {},
   "source": [
    "### Normalization (scaling)\n",
    "Sometimes, the range of values of raw data varies widely. In that case, objective functions will not work properly without normalization. Normalizatoin also helps gradient descent to converge faster."
   ]
  },
  {
   "cell_type": "code",
   "execution_count": null,
   "metadata": {
    "collapsed": true
   },
   "outputs": [],
   "source": [
    "x =\n",
    "y ="
   ]
  },
  {
   "cell_type": "markdown",
   "metadata": {},
   "source": [
    "### Initialize learnable parameters: weights and biases\n",
    "usually as small random values, but 0.5 here to compare with our manual solution. Ignore bias for simplicity"
   ]
  },
  {
   "cell_type": "code",
   "execution_count": null,
   "metadata": {
    "collapsed": true,
    "scrolled": true
   },
   "outputs": [],
   "source": [
    "w1 =  # 2 X 3 --> 3 neurons, each has two inputs\n",
    "w2 =  # 3 X 1 --> single neuron with three inputs"
   ]
  },
  {
   "cell_type": "markdown",
   "metadata": {},
   "source": [
    "### Training"
   ]
  },
  {
   "cell_type": "code",
   "execution_count": null,
   "metadata": {
    "collapsed": true
   },
   "outputs": [],
   "source": [
    "lr = 0.8 # learning rate\n",
    "epochs = np.arange(10000)\n",
    "sse = []\n",
    "\n",
    "# return output of hidden layer & output layer\n",
    "def feed_forward(x, w1, w2):\n",
    "    hidden_output =  # 4 X 3\n",
    "    output =  # 4 X 1\n",
    "    \n",
    "\n",
    "# return gradients of last & hidden layer\n",
    "def backpropagation(y, y_hat, ):\n",
    "    delta =  # 4 X 1\n",
    "    gradient =  # 3 X 1\n",
    "    \n",
    "    delta2 =  # 4 X 3\n",
    "    gradient2 =  # 2 X 3\n",
    "\n",
    "for i in epochs:\n",
    "\n",
    "    # feed forward : calculate y_hat\n",
    "    \n",
    "    # calculate SSE and append to list\n",
    "\n",
    "    # backpropagation : calculate gradients\n",
    "    \n",
    "    # adjusting weights\n",
    "    "
   ]
  },
  {
   "cell_type": "markdown",
   "metadata": {},
   "source": [
    "### Plot SSE during training"
   ]
  },
  {
   "cell_type": "code",
   "execution_count": null,
   "metadata": {
    "collapsed": true
   },
   "outputs": [],
   "source": []
  }
 ],
 "metadata": {
  "kernelspec": {
   "display_name": "Python 3",
   "language": "python",
   "name": "python3"
  },
  "language_info": {
   "codemirror_mode": {
    "name": "ipython",
    "version": 3
   },
   "file_extension": ".py",
   "mimetype": "text/x-python",
   "name": "python",
   "nbconvert_exporter": "python",
   "pygments_lexer": "ipython3",
   "version": "3.6.3"
  }
 },
 "nbformat": 4,
 "nbformat_minor": 2
}
